{
 "cells": [
  {
   "cell_type": "code",
   "execution_count": 2,
   "id": "bbf6c893-4815-4707-8095-e1ff0327ef19",
   "metadata": {},
   "outputs": [],
   "source": [
    "!cd /app"
   ]
  },
  {
   "cell_type": "code",
   "execution_count": 3,
   "id": "4f1b5d30-c5dd-43e0-9130-aa06ceaeee75",
   "metadata": {},
   "outputs": [
    {
     "data": {
      "text/plain": [
       "'/app'"
      ]
     },
     "execution_count": 3,
     "metadata": {},
     "output_type": "execute_result"
    }
   ],
   "source": [
    "import os \n",
    "os.getcwd()"
   ]
  },
  {
   "cell_type": "code",
   "execution_count": 7,
   "id": "5018c5ce-ca83-4197-a574-ffdb9839c625",
   "metadata": {},
   "outputs": [
    {
     "data": {
      "text/plain": [
       "['__pycache__', 'dataset_readers.py', 'dataset_cleaners.py']"
      ]
     },
     "execution_count": 7,
     "metadata": {},
     "output_type": "execute_result"
    }
   ],
   "source": [
    "os.listdir('/app/cybulde/data_processing/')"
   ]
  },
  {
   "cell_type": "code",
   "execution_count": 10,
   "id": "a74d6998-f50e-4511-a700-de1afac22873",
   "metadata": {},
   "outputs": [],
   "source": [
    "from cybulde.data_processing.dataset_cleaners import SpellCorrectionDatasetCleaner\n",
    "from cybulde.utils.utils import SpellCorrectionModel"
   ]
  },
  {
   "cell_type": "code",
   "execution_count": 15,
   "id": "346c3407-5bee-4548-9d1b-369ee92a40bb",
   "metadata": {},
   "outputs": [],
   "source": [
    "spell_correction_model = SpellCorrectionModel()\n",
    "cleaner = SpellCorrectionDatasetCleaner(spell_correction_model)"
   ]
  },
  {
   "cell_type": "code",
   "execution_count": 16,
   "id": "0893386b-70e4-422d-8845-4ad9ff01b9be",
   "metadata": {},
   "outputs": [],
   "source": [
    "text = \"whereis th elove hehad dated forImuch of thepast who couqdn'tread in sixthgrade and ins pired him\""
   ]
  },
  {
   "cell_type": "code",
   "execution_count": 17,
   "id": "69f4f148-bb93-47b3-95ff-0caf8d76ceb4",
   "metadata": {},
   "outputs": [
    {
     "data": {
      "text/plain": [
       "\"where is the love he had dated for much of the past who couldn't read in sixth grade and inspired him\""
      ]
     },
     "execution_count": 17,
     "metadata": {},
     "output_type": "execute_result"
    }
   ],
   "source": [
    "cleaner(text)"
   ]
  },
  {
   "cell_type": "code",
   "execution_count": null,
   "id": "50116cd3-8f22-4d81-bc63-e18865194a55",
   "metadata": {},
   "outputs": [],
   "source": []
  }
 ],
 "metadata": {
  "kernelspec": {
   "display_name": "Python 3 (ipykernel)",
   "language": "python",
   "name": "python3"
  },
  "language_info": {
   "codemirror_mode": {
    "name": "ipython",
    "version": 3
   },
   "file_extension": ".py",
   "mimetype": "text/x-python",
   "name": "python",
   "nbconvert_exporter": "python",
   "pygments_lexer": "ipython3",
   "version": "3.10.15"
  }
 },
 "nbformat": 4,
 "nbformat_minor": 5
}
